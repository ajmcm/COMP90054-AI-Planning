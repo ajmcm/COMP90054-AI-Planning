{
  "cells": [
    {
      "cell_type": "markdown",
      "metadata": {
        "id": "view-in-github",
        "colab_type": "text"
      },
      "source": [
        "<a href=\"https://colab.research.google.com/github/ajmcm/COMP90054-AI-Planning/blob/main/week1/problem_set_01.ipynb\" target=\"_parent\"><img src=\"https://colab.research.google.com/assets/colab-badge.svg\" alt=\"Open In Colab\"/></a>"
      ]
    },
    {
      "cell_type": "markdown",
      "metadata": {
        "id": "wtYhEJOLntKg"
      },
      "source": [
        "# COMP90054 AI Planning for Autonomy\n",
        "### Problem Set 01 - Blind Search\n",
        "\n",
        "\n"
      ]
    },
    {
      "cell_type": "markdown",
      "metadata": {
        "id": "gzM1qCxE1yDN"
      },
      "source": [
        "### Key concepts:\n",
        "- State-space model\n",
        "- Blind search algorithms: BFS, DFS and ID"
      ]
    },
    {
      "cell_type": "markdown",
      "metadata": {
        "id": "dg5pdTSv10rD"
      },
      "source": [
        "\n",
        "### Set up the environment:\n",
        "- Please run the following blocks of code to initialise the *environment*"
      ]
    },
    {
      "cell_type": "code",
      "execution_count": 2,
      "metadata": {
        "colab": {
          "base_uri": "https://localhost:8080/"
        },
        "id": "oaRPfefQPliF",
        "outputId": "242d21d3-a6e7-4d9d-8007-a9d8759b078a"
      },
      "outputs": [
        {
          "output_type": "stream",
          "name": "stdout",
          "text": [
            "Requirement already satisfied: pydotplus in /usr/local/lib/python3.11/dist-packages (2.0.2)\n",
            "Requirement already satisfied: pyparsing>=2.0.1 in /usr/local/lib/python3.11/dist-packages (from pydotplus) (3.2.1)\n"
          ]
        }
      ],
      "source": [
        "!pip install pydotplus"
      ]
    },
    {
      "cell_type": "code",
      "execution_count": 3,
      "metadata": {
        "id": "mAX5ynV3OF2X"
      },
      "outputs": [],
      "source": [
        "import numpy as np\n",
        "import pydotplus\n",
        "from IPython.display import display, Image\n",
        "from ipywidgets import interact"
      ]
    },
    {
      "cell_type": "code",
      "execution_count": 4,
      "metadata": {
        "id": "BNTVpXp5Pe0v"
      },
      "outputs": [],
      "source": [
        "# Class of the problem\n",
        "\n",
        "class Problem():\n",
        "  initial_state = None\n",
        "  state_space = None\n",
        "  goal_states = None\n",
        "  actions = None\n",
        "  transition_function = None\n",
        "  costs = None\n",
        "\n",
        "  def __init__(self, initial_state, state_space, goal_states, actions, transition_function, costs):\n",
        "    self.initial_state = initial_state\n",
        "    self.state_space = state_space\n",
        "    self.goal_states = goal_states\n",
        "    self.actions = actions\n",
        "    self.transition_function = transition_function\n",
        "    self.costs = costs\n",
        "\n",
        "    self.current_state = self.initial_state\n",
        "\n",
        "    return\n",
        "\n",
        "# Helper function to visualize the problem (i.e. draw state transition graph)\n",
        "def generate_state_graph(problem):\n",
        "  state_graph={}\n",
        "  state_graph['nodes'] = {k:{'label':'\\\"{}\\n{}\\\"'.format(k,' ')} for k in sorted(list(problem.state_space))}\n",
        "  state_graph['nodes'][problem.initial_state]['color'] = 'green'\n",
        "  for goal in problem.goal_states:\n",
        "      state_graph['nodes'][goal]['shape'] = 'doublecircle'\n",
        "  state_graph['edge'] = {k:{'label':str(problem.costs[k])} for k in problem.costs.keys()}\n",
        "  return state_graph\n",
        "\n",
        "def render_graph(param):\n",
        "  s = ''\n",
        "  s += 'digraph G { \\n'\n",
        "\n",
        "  for edge,tdict in param['edge'].items():\n",
        "    tstr = edge[0] + '->' + edge[1] + ' '\n",
        "    if bool(tdict):\n",
        "      tstr += '['\n",
        "      for k,v in tdict.items():\n",
        "        tstr += '{}={},'.format(k,v)\n",
        "      tstr = tstr[:-1] + ']'\n",
        "    tstr += ';\\n'\n",
        "    s+=tstr\n",
        "\n",
        "  for node,tdict in param['nodes'].items():\n",
        "    tstr = node + ' '\n",
        "    if bool(tdict):\n",
        "      tstr += '['\n",
        "      for k,v in tdict.items():\n",
        "        tstr += '{}={},'.format(k,v)\n",
        "      tstr = tstr[:-1] + ']'\n",
        "    tstr += ';\\n'\n",
        "    s+=tstr\n",
        "\n",
        "  s += ' \\n}'\n",
        "\n",
        "  #print (s)\n",
        "  graph = pydotplus.graph_from_dot_data(s)\n",
        "  return graph.create_png()\n",
        "\n",
        "\n",
        "# Visulize the search process (not required)\n",
        "def visulize_search_process(nodes,problem):\n",
        "    progress = []\n",
        "\n",
        "    for i,(state,value,parent) in enumerate(nodes):\n",
        "        param = {}\n",
        "        param['nodes'] = {str(k):{'label':'\\\"n{}\\n{},{},{}\\\"'.format(k,state,cost,parent)} for k,(state,cost,parent) in enumerate(nodes[:i+1])}\n",
        "\n",
        "        # The newly generated node is red while all other nodes are green\n",
        "        for k in param['nodes']:\n",
        "            param['nodes'][k]['color'] = 'green'\n",
        "        param['nodes'][str(i)]['color'] = 'red'\n",
        "\n",
        "        # Black edges\n",
        "        param['edge'] = {(str(parent), str(k)): {'label': str(problem.costs[(nodes[parent][0], state)])} for k, (state, cost, parent) in enumerate(nodes[:i+1]) if not parent is None}\n",
        "        for edge in param['edge']:\n",
        "            param['edge'][edge]['color'] = 'black'\n",
        "\n",
        "        progress.append(param)\n",
        "\n",
        "    prog_imgs = [render_graph(param) for param in progress]\n",
        "    def show_img(idx):\n",
        "        return display(Image(prog_imgs[idx]))\n",
        "    interact(show_img,idx=(0,len(prog_imgs)-1,1))\n",
        "\n",
        "\n",
        "\n"
      ]
    },
    {
      "cell_type": "markdown",
      "metadata": {
        "id": "U8f4i2S328SJ"
      },
      "source": [
        "\n",
        "\n",
        "---\n",
        "\n",
        "\n",
        "### Example:\n"
      ]
    },
    {
      "cell_type": "markdown",
      "metadata": {
        "id": "3Lus_uhCByRd"
      },
      "source": [
        "#### State transition graph:\n",
        "\n",
        "![image.png](data:image/png;base64,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)\n"
      ]
    },
    {
      "cell_type": "markdown",
      "metadata": {
        "id": "CqyZC6ql7Njk"
      },
      "source": [
        "#### Code to auto generate state space model (you don't have to use it)"
      ]
    },
    {
      "cell_type": "code",
      "execution_count": 5,
      "metadata": {
        "colab": {
          "base_uri": "https://localhost:8080/"
        },
        "id": "45Gjrc3u6dU_",
        "outputId": "c2eeea9b-51ae-49f9-b508-e5a35188309e"
      },
      "outputs": [
        {
          "output_type": "stream",
          "name": "stdout",
          "text": [
            "initial_state=s1\n",
            "state_space={'s6', 's1', 's5', 's3', 's2', 's7', 's4'}\n",
            "goal_states={'s7'}\n",
            "actions={'s1': {('s1', 's3'), ('s1', 's2'), ('s1', 's4')}, 's2': {('s2', 's5')}, 's3': {('s3', 's7')}, 's4': {('s4', 's6')}, 's5': {('s5', 's7')}, 's6': {('s6', 's7')}, 's7': set()}\n",
            "transition_function={('s1', ('s1', 's2')): 's2', ('s1', ('s1', 's3')): 's3', ('s1', ('s1', 's4')): 's4', ('s2', ('s2', 's5')): 's5', ('s3', ('s3', 's7')): 's7', ('s4', ('s4', 's6')): 's6', ('s5', ('s5', 's7')): 's7', ('s6', ('s6', 's7')): 's7'}\n",
            "costs={('s1', 's2'): 2, ('s1', 's3'): 2, ('s1', 's4'): 1, ('s2', 's5'): 2, ('s3', 's7'): 10, ('s4', 's6'): 1, ('s5', 's7'): 3, ('s6', 's7'): 4}\n"
          ]
        }
      ],
      "source": [
        "# Code to auto-generate state space model\n",
        "\n",
        "states = set(['s{}'.format(i) for i in range(1,8)])\n",
        "ini_st = 's1'\n",
        "goal_sts = set(['s7'])\n",
        "\n",
        "costs = {\n",
        "    ('s1','s2'):2,\n",
        "    ('s1','s3'):2,\n",
        "    ('s1','s4'):1,\n",
        "    ('s2','s5'):2,\n",
        "    ('s3','s7'):10,\n",
        "    ('s4','s6'):1,\n",
        "    ('s5','s7'):3,\n",
        "    ('s6','s7'):4,\n",
        "}\n",
        "\n",
        "\n",
        "actions = {'s{}'.format(i): set() for i in range(1,8)}\n",
        "for k1,k2 in costs.keys():\n",
        "  actions[k1].add((k1,k2))\n",
        "\n",
        "tranf = {(k[0],k):k[1] for k in costs.keys()}\n",
        "\n",
        "prob = Problem(initial_state=ini_st, state_space=states, goal_states=goal_sts, actions=actions, transition_function=tranf, costs=costs)\n",
        "\n",
        "print ('initial_state={}'.format(prob.initial_state))\n",
        "print ('state_space={}'.format(prob.state_space))\n",
        "print ('goal_states={}'.format(prob.goal_states))\n",
        "print ('actions={}'.format(prob.actions))\n",
        "print ('transition_function={}'.format(prob.transition_function))\n",
        "print ('costs={}'.format(prob.costs))\n"
      ]
    },
    {
      "cell_type": "markdown",
      "metadata": {
        "id": "prqvYVNs7Z8g"
      },
      "source": [
        "#### Code to define the problem (i.e. state space model)"
      ]
    },
    {
      "cell_type": "code",
      "execution_count": 6,
      "metadata": {
        "id": "EA7bnF0C51QK"
      },
      "outputs": [],
      "source": [
        "initial_state = 's1'\n",
        "state_space = {'s3', 's5', 's1', 's2', 's4', 's7', 's6'}\n",
        "goal_states = {'s7'}\n",
        "actions = {'s1': {('s1', 's3'), ('s1', 's2'), ('s1', 's4')}, 's2': {('s2', 's5')}, 's3': {('s3', 's7')}, 's4': {('s4', 's6')}, 's5': {('s5', 's7')}, 's6': {('s6', 's7')}, 's7': set()}\n",
        "transition_function = {('s1', ('s1', 's2')): 's2', ('s1', ('s1', 's3')): 's3', ('s1', ('s1', 's4')): 's4', ('s2', ('s2', 's5')): 's5', ('s3', ('s3', 's7')): 's7', ('s4', ('s4', 's6')): 's6', ('s5', ('s5', 's7')): 's7', ('s6', ('s6', 's7')): 's7'}\n",
        "costs = {('s1', 's2'): 2, ('s1', 's3'): 2, ('s1', 's4'): 1, ('s2', 's5'): 2, ('s3', 's7'): 10, ('s4', 's6'): 1, ('s5', 's7'): 3, ('s6', 's7'): 4}\n",
        "\n",
        "problem = Problem(initial_state, state_space, goal_states, actions, transition_function, costs)"
      ]
    },
    {
      "cell_type": "markdown",
      "metadata": {
        "id": "HGjgFMwg7qr-"
      },
      "source": [
        "#### Generate the state transition graph for the problem:"
      ]
    },
    {
      "cell_type": "code",
      "execution_count": 7,
      "metadata": {
        "id": "_5uctAO-9Vwe",
        "colab": {
          "base_uri": "https://localhost:8080/",
          "height": 581
        },
        "outputId": "4e9bb4dc-46ca-4596-c8e9-256a1b67e3b5"
      },
      "outputs": [
        {
          "output_type": "display_data",
          "data": {
            "image/png": "[encoded data removed]",
            "text/plain": [
              "<IPython.core.display.Image object>"
            ]
          },
          "metadata": {}
        }
      ],
      "source": [
        "display(Image(render_graph(generate_state_graph(problem))))"
      ]
    },
    {
      "cell_type": "markdown",
      "metadata": {
        "id": "UC43XOxPC1AW"
      },
      "source": [
        "---\n",
        "\n",
        "\n",
        "### Problem 1:"
      ]
    },
    {
      "cell_type": "markdown",
      "metadata": {
        "id": "JnZqmp3q1kWy"
      },
      "source": [
        "\n",
        "Following the above example, define the state-space model of the graph:\n",
        "\n",
        "![image.png](data:image/png;base64,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)"
      ]
    },
    {
      "cell_type": "markdown",
      "metadata": {
        "id": "7nzYjY0-A7M8"
      },
      "source": [
        "#### Task 1: please complete the following code:"
      ]
    },
    {
      "cell_type": "code",
      "execution_count": 8,
      "metadata": {
        "id": "6DLhMhd_75OM"
      },
      "outputs": [],
      "source": [
        "initial_state='s1'\n",
        "state_space={'s1','s2','s3','s4'}\n",
        "goal_states={'s4'}\n",
        "actions={'s1':{('s1','s2'),('s1','s3')},'s2':{('s2','s4')},'s3':{('s3','s1'),('s3','s4')},'s4':set()}\n",
        "transition_function={('s1',('s1','s2')):'s2',('s1',('s1','s3')):'s3',('s2',('s2','s3')):'s3',('s3',('s3','s1')):'s1',('s3',('s3','s4')):'s4'}\n",
        "costs={('s1','s2'):1,('s1','s3'):2,('s2','s3'):4,('s3','s1'):3,('s3','s4'):5}\n",
        "\n",
        "\n",
        "problem1 = Problem(initial_state, state_space, goal_states, actions, transition_function, costs)"
      ]
    },
    {
      "cell_type": "markdown",
      "metadata": {
        "id": "3GjvxMrlBMYi"
      },
      "source": [
        "#### Task 2: try to visulize the state transition graph of your model:"
      ]
    },
    {
      "cell_type": "code",
      "execution_count": 9,
      "metadata": {
        "id": "1fYOilnZ5DU8",
        "colab": {
          "base_uri": "https://localhost:8080/",
          "height": 529
        },
        "outputId": "ae826f25-8498-4b36-fdad-9ae7f92c3903"
      },
      "outputs": [
        {
          "output_type": "display_data",
          "data": {
            "image/png": "[encoded data removed]",
            "text/plain": [
              "<IPython.core.display.Image object>"
            ]
          },
          "metadata": {}
        }
      ],
      "source": [
        "display(Image(render_graph(generate_state_graph(problem1))))"
      ]
    },
    {
      "cell_type": "markdown",
      "metadata": {
        "id": "S8b0115NCVL2"
      },
      "source": [
        "### Problem 2"
      ]
    },
    {
      "cell_type": "markdown",
      "metadata": {
        "id": "aZpGj7U_D2U_"
      },
      "source": [
        "Run three common blind search algorithms (i.e. BFS, DFS and ID) on the given state space model from the Example. What's the difference between the **state transition graph** and the **search tree** generated during the search process？\n",
        "\n"
      ]
    },
    {
      "cell_type": "markdown",
      "metadata": {
        "id": "0Po-5Dxr5ZKw"
      },
      "source": [
        "![image.png](data:image/png;base64,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)\n"
      ]
    },
    {
      "cell_type": "markdown",
      "metadata": {
        "id": "zn5r843A_YUp"
      },
      "source": [
        "#### Task 1:\n",
        "Discuss with others, and finish the node expansion order for each algorithm:"
      ]
    },
    {
      "cell_type": "markdown",
      "metadata": {
        "id": "7gYsvDzSEhE9"
      },
      "source": [
        "##### BrFS(Breadth First Search):\n"
      ]
    },
    {
      "cell_type": "code",
      "execution_count": 10,
      "metadata": {
        "id": "AAqIDWnqzDYU"
      },
      "outputs": [],
      "source": [
        "#  Expansion node order\n",
        "nodes = [ # (state, accumulated cost -> g(n), id of parent node)\n",
        "      ('s1',0,None),\n",
        "      ('s2',2,0),\n",
        "      ('s3',2,0),\n",
        "      ('s4',1,0),\n",
        "      ('s5',4,1),\n",
        "      ('s7',12,2)\n",
        "]"
      ]
    },
    {
      "cell_type": "code",
      "execution_count": 11,
      "metadata": {
        "id": "u9KavEDipYb8",
        "colab": {
          "base_uri": "https://localhost:8080/",
          "height": 411,
          "referenced_widgets": [
            "3acc7a81c9854e0d8b6270c633512768",
            "b0955cc80513412f84584107768df11b",
            "64c2f29dac724eddb97bc8cd36dac35d",
            "7d7aed1818e445a6ae355f4323ccbcd9",
            "973b963ee9eb482784af2cfb1122eccf",
            "0085a846d1a040e891bd1a5b60163644",
            "695cc1b085b34dffaa7e88b407dc24da"
          ]
        },
        "outputId": "68ebbbaf-276c-46b3-d181-a7b44e1b4b6d"
      },
      "outputs": [
        {
          "output_type": "display_data",
          "data": {
            "text/plain": [
              "interactive(children=(IntSlider(value=2, description='idx', max=5), Output()), _dom_classes=('widget-interact'…"
            ],
            "application/vnd.jupyter.widget-view+json": {
              "version_major": 2,
              "version_minor": 0,
              "model_id": "3acc7a81c9854e0d8b6270c633512768"
            }
          },
          "metadata": {}
        }
      ],
      "source": [
        "visulize_search_process(nodes,problem)"
      ]
    },
    {
      "cell_type": "markdown",
      "metadata": {
        "id": "0PgvEwPbETZk"
      },
      "source": [
        "##### DFS(Depth First Search):"
      ]
    },
    {
      "cell_type": "code",
      "execution_count": 12,
      "metadata": {
        "id": "6VLLnA_lEZoq"
      },
      "outputs": [],
      "source": [
        "#  Expansion node order\n",
        "nodes = [ # (state, accumulated cost, id of parent node)\n",
        "      ('s1',0,None),\n",
        "      ('s2',2, 0),\n",
        "      ('s5',4, 1),\n",
        "      ('s7',7, 2)\n",
        "]"
      ]
    },
    {
      "cell_type": "code",
      "execution_count": 13,
      "metadata": {
        "id": "bzWl8GXuE1Eu",
        "colab": {
          "base_uri": "https://localhost:8080/",
          "height": 271,
          "referenced_widgets": [
            "154867f1269340bb8d19ddf80838d7b4",
            "add809c0b34345b59b596a3fb1db6ef5",
            "f15dc0f8f5b943d7bd432727e0a2ad3d",
            "62cf6177c17f46308d000729b9270d1b",
            "48b34e3c346342d2adaf3c2a4c973d90",
            "a19f941870044e068f6ecf8edc570a67",
            "b2b018cda8e04f5d873d9bd2721516dd"
          ]
        },
        "outputId": "4db9fc96-fc48-45af-f403-8eb6eb2b3b91"
      },
      "outputs": [
        {
          "output_type": "display_data",
          "data": {
            "text/plain": [
              "interactive(children=(IntSlider(value=1, description='idx', max=3), Output()), _dom_classes=('widget-interact'…"
            ],
            "application/vnd.jupyter.widget-view+json": {
              "version_major": 2,
              "version_minor": 0,
              "model_id": "154867f1269340bb8d19ddf80838d7b4"
            }
          },
          "metadata": {}
        }
      ],
      "source": [
        "visulize_search_process(nodes,problem)"
      ]
    },
    {
      "cell_type": "markdown",
      "metadata": {
        "id": "eZD8T2h1GP8k"
      },
      "source": [
        "##### ID(Iterative Deepening):"
      ]
    },
    {
      "cell_type": "code",
      "execution_count": 14,
      "metadata": {
        "id": "MjBqaoOUHDAC"
      },
      "outputs": [],
      "source": [
        "#  Expansion node order\n",
        "nodes = [ # (state, accumulated cost, id of parent node)\n",
        "      # same as BFS, i think\n",
        "]"
      ]
    },
    {
      "cell_type": "code",
      "execution_count": 15,
      "metadata": {
        "id": "rSFd-6PZH797",
        "collapsed": true,
        "colab": {
          "base_uri": "https://localhost:8080/",
          "height": 287
        },
        "outputId": "b32a45bb-8ac1-4e8b-cebc-f46d80b4cbe2"
      },
      "outputs": [
        {
          "output_type": "error",
          "ename": "ValueError",
          "evalue": "value must be between min and max (min=0, value=-1, max=-1)",
          "traceback": [
            "\u001b[0;31m---------------------------------------------------------------------------\u001b[0m",
            "\u001b[0;31mValueError\u001b[0m                                Traceback (most recent call last)",
            "\u001b[0;32m<ipython-input-15-0e3013ee80b5>\u001b[0m in \u001b[0;36m<cell line: 0>\u001b[0;34m()\u001b[0m\n\u001b[0;32m----> 1\u001b[0;31m \u001b[0mvisulize_search_process\u001b[0m\u001b[0;34m(\u001b[0m\u001b[0mnodes\u001b[0m\u001b[0;34m,\u001b[0m\u001b[0mproblem\u001b[0m\u001b[0;34m)\u001b[0m\u001b[0;34m\u001b[0m\u001b[0;34m\u001b[0m\u001b[0m\n\u001b[0m",
            "\u001b[0;32m<ipython-input-4-7d215de5c4bc>\u001b[0m in \u001b[0;36mvisulize_search_process\u001b[0;34m(nodes, problem)\u001b[0m\n\u001b[1;32m     85\u001b[0m     \u001b[0;32mdef\u001b[0m \u001b[0mshow_img\u001b[0m\u001b[0;34m(\u001b[0m\u001b[0midx\u001b[0m\u001b[0;34m)\u001b[0m\u001b[0;34m:\u001b[0m\u001b[0;34m\u001b[0m\u001b[0;34m\u001b[0m\u001b[0m\n\u001b[1;32m     86\u001b[0m         \u001b[0;32mreturn\u001b[0m \u001b[0mdisplay\u001b[0m\u001b[0;34m(\u001b[0m\u001b[0mImage\u001b[0m\u001b[0;34m(\u001b[0m\u001b[0mprog_imgs\u001b[0m\u001b[0;34m[\u001b[0m\u001b[0midx\u001b[0m\u001b[0;34m]\u001b[0m\u001b[0;34m)\u001b[0m\u001b[0;34m)\u001b[0m\u001b[0;34m\u001b[0m\u001b[0;34m\u001b[0m\u001b[0m\n\u001b[0;32m---> 87\u001b[0;31m     \u001b[0minteract\u001b[0m\u001b[0;34m(\u001b[0m\u001b[0mshow_img\u001b[0m\u001b[0;34m,\u001b[0m\u001b[0midx\u001b[0m\u001b[0;34m=\u001b[0m\u001b[0;34m(\u001b[0m\u001b[0;36m0\u001b[0m\u001b[0;34m,\u001b[0m\u001b[0mlen\u001b[0m\u001b[0;34m(\u001b[0m\u001b[0mprog_imgs\u001b[0m\u001b[0;34m)\u001b[0m\u001b[0;34m-\u001b[0m\u001b[0;36m1\u001b[0m\u001b[0;34m,\u001b[0m\u001b[0;36m1\u001b[0m\u001b[0;34m)\u001b[0m\u001b[0;34m)\u001b[0m\u001b[0;34m\u001b[0m\u001b[0;34m\u001b[0m\u001b[0m\n\u001b[0m\u001b[1;32m     88\u001b[0m \u001b[0;34m\u001b[0m\u001b[0m\n\u001b[1;32m     89\u001b[0m \u001b[0;34m\u001b[0m\u001b[0m\n",
            "\u001b[0;32m/usr/local/lib/python3.11/dist-packages/ipywidgets/widgets/interaction.py\u001b[0m in \u001b[0;36m__call__\u001b[0;34m(self, _InteractFactory__interact_f, **kwargs)\u001b[0m\n\u001b[1;32m    527\u001b[0m         \u001b[0;31m#    def f(*args, **kwargs):\u001b[0m\u001b[0;34m\u001b[0m\u001b[0;34m\u001b[0m\u001b[0m\n\u001b[1;32m    528\u001b[0m         \u001b[0;31m#        ...\u001b[0m\u001b[0;34m\u001b[0m\u001b[0;34m\u001b[0m\u001b[0m\n\u001b[0;32m--> 529\u001b[0;31m         \u001b[0mw\u001b[0m \u001b[0;34m=\u001b[0m \u001b[0mself\u001b[0m\u001b[0;34m.\u001b[0m\u001b[0mwidget\u001b[0m\u001b[0;34m(\u001b[0m\u001b[0mf\u001b[0m\u001b[0;34m)\u001b[0m\u001b[0;34m\u001b[0m\u001b[0;34m\u001b[0m\u001b[0m\n\u001b[0m\u001b[1;32m    530\u001b[0m         \u001b[0;32mtry\u001b[0m\u001b[0;34m:\u001b[0m\u001b[0;34m\u001b[0m\u001b[0;34m\u001b[0m\u001b[0m\n\u001b[1;32m    531\u001b[0m             \u001b[0mf\u001b[0m\u001b[0;34m.\u001b[0m\u001b[0mwidget\u001b[0m \u001b[0;34m=\u001b[0m \u001b[0mw\u001b[0m\u001b[0;34m\u001b[0m\u001b[0;34m\u001b[0m\u001b[0m\n",
            "\u001b[0;32m/usr/local/lib/python3.11/dist-packages/ipywidgets/widgets/interaction.py\u001b[0m in \u001b[0;36mwidget\u001b[0;34m(self, f)\u001b[0m\n\u001b[1;32m    443\u001b[0m             \u001b[0mThe\u001b[0m \u001b[0mfunction\u001b[0m \u001b[0mto\u001b[0m \u001b[0mwhich\u001b[0m \u001b[0mthe\u001b[0m \u001b[0minteractive\u001b[0m \u001b[0mwidgets\u001b[0m \u001b[0mare\u001b[0m \u001b[0mtied\u001b[0m\u001b[0;34m.\u001b[0m\u001b[0;34m\u001b[0m\u001b[0;34m\u001b[0m\u001b[0m\n\u001b[1;32m    444\u001b[0m         \"\"\"\n\u001b[0;32m--> 445\u001b[0;31m         \u001b[0;32mreturn\u001b[0m \u001b[0mself\u001b[0m\u001b[0;34m.\u001b[0m\u001b[0mcls\u001b[0m\u001b[0;34m(\u001b[0m\u001b[0mf\u001b[0m\u001b[0;34m,\u001b[0m \u001b[0mself\u001b[0m\u001b[0;34m.\u001b[0m\u001b[0mopts\u001b[0m\u001b[0;34m,\u001b[0m \u001b[0;34m**\u001b[0m\u001b[0mself\u001b[0m\u001b[0;34m.\u001b[0m\u001b[0mkwargs\u001b[0m\u001b[0;34m)\u001b[0m\u001b[0;34m\u001b[0m\u001b[0;34m\u001b[0m\u001b[0m\n\u001b[0m\u001b[1;32m    446\u001b[0m \u001b[0;34m\u001b[0m\u001b[0m\n\u001b[1;32m    447\u001b[0m     \u001b[0;32mdef\u001b[0m \u001b[0m__call__\u001b[0m\u001b[0;34m(\u001b[0m\u001b[0mself\u001b[0m\u001b[0;34m,\u001b[0m \u001b[0m__interact_f\u001b[0m\u001b[0;34m=\u001b[0m\u001b[0;32mNone\u001b[0m\u001b[0;34m,\u001b[0m \u001b[0;34m**\u001b[0m\u001b[0mkwargs\u001b[0m\u001b[0;34m)\u001b[0m\u001b[0;34m:\u001b[0m\u001b[0;34m\u001b[0m\u001b[0;34m\u001b[0m\u001b[0m\n",
            "\u001b[0;32m/usr/local/lib/python3.11/dist-packages/ipywidgets/widgets/interaction.py\u001b[0m in \u001b[0;36m__init__\u001b[0;34m(self, _interactive__interact_f, _interactive__options, **kwargs)\u001b[0m\n\u001b[1;32m    199\u001b[0m             \u001b[0mgetcallargs\u001b[0m\u001b[0;34m(\u001b[0m\u001b[0mf\u001b[0m\u001b[0;34m,\u001b[0m \u001b[0;34m**\u001b[0m\u001b[0;34m{\u001b[0m\u001b[0mn\u001b[0m\u001b[0;34m:\u001b[0m\u001b[0mv\u001b[0m \u001b[0;32mfor\u001b[0m \u001b[0mn\u001b[0m\u001b[0;34m,\u001b[0m\u001b[0mv\u001b[0m\u001b[0;34m,\u001b[0m\u001b[0m_\u001b[0m \u001b[0;32min\u001b[0m \u001b[0mnew_kwargs\u001b[0m\u001b[0;34m}\u001b[0m\u001b[0;34m)\u001b[0m\u001b[0;34m\u001b[0m\u001b[0;34m\u001b[0m\u001b[0m\n\u001b[1;32m    200\u001b[0m         \u001b[0;31m# Now build the widgets from the abbreviations.\u001b[0m\u001b[0;34m\u001b[0m\u001b[0;34m\u001b[0m\u001b[0m\n\u001b[0;32m--> 201\u001b[0;31m         \u001b[0mself\u001b[0m\u001b[0;34m.\u001b[0m\u001b[0mkwargs_widgets\u001b[0m \u001b[0;34m=\u001b[0m \u001b[0mself\u001b[0m\u001b[0;34m.\u001b[0m\u001b[0mwidgets_from_abbreviations\u001b[0m\u001b[0;34m(\u001b[0m\u001b[0mnew_kwargs\u001b[0m\u001b[0;34m)\u001b[0m\u001b[0;34m\u001b[0m\u001b[0;34m\u001b[0m\u001b[0m\n\u001b[0m\u001b[1;32m    202\u001b[0m \u001b[0;34m\u001b[0m\u001b[0m\n\u001b[1;32m    203\u001b[0m         \u001b[0;31m# This has to be done as an assignment, not using self.children.append,\u001b[0m\u001b[0;34m\u001b[0m\u001b[0;34m\u001b[0m\u001b[0m\n",
            "\u001b[0;32m/usr/local/lib/python3.11/dist-packages/ipywidgets/widgets/interaction.py\u001b[0m in \u001b[0;36mwidgets_from_abbreviations\u001b[0;34m(self, seq)\u001b[0m\n\u001b[1;32m    296\u001b[0m         \u001b[0mresult\u001b[0m \u001b[0;34m=\u001b[0m \u001b[0;34m[\u001b[0m\u001b[0;34m]\u001b[0m\u001b[0;34m\u001b[0m\u001b[0;34m\u001b[0m\u001b[0m\n\u001b[1;32m    297\u001b[0m         \u001b[0;32mfor\u001b[0m \u001b[0mname\u001b[0m\u001b[0;34m,\u001b[0m \u001b[0mabbrev\u001b[0m\u001b[0;34m,\u001b[0m \u001b[0mdefault\u001b[0m \u001b[0;32min\u001b[0m \u001b[0mseq\u001b[0m\u001b[0;34m:\u001b[0m\u001b[0;34m\u001b[0m\u001b[0;34m\u001b[0m\u001b[0m\n\u001b[0;32m--> 298\u001b[0;31m             \u001b[0mwidget\u001b[0m \u001b[0;34m=\u001b[0m \u001b[0mself\u001b[0m\u001b[0;34m.\u001b[0m\u001b[0mwidget_from_abbrev\u001b[0m\u001b[0;34m(\u001b[0m\u001b[0mabbrev\u001b[0m\u001b[0;34m,\u001b[0m \u001b[0mdefault\u001b[0m\u001b[0;34m)\u001b[0m\u001b[0;34m\u001b[0m\u001b[0;34m\u001b[0m\u001b[0m\n\u001b[0m\u001b[1;32m    299\u001b[0m             \u001b[0;32mif\u001b[0m \u001b[0;32mnot\u001b[0m \u001b[0;34m(\u001b[0m\u001b[0misinstance\u001b[0m\u001b[0;34m(\u001b[0m\u001b[0mwidget\u001b[0m\u001b[0;34m,\u001b[0m \u001b[0mValueWidget\u001b[0m\u001b[0;34m)\u001b[0m \u001b[0;32mor\u001b[0m \u001b[0misinstance\u001b[0m\u001b[0;34m(\u001b[0m\u001b[0mwidget\u001b[0m\u001b[0;34m,\u001b[0m \u001b[0mfixed\u001b[0m\u001b[0;34m)\u001b[0m\u001b[0;34m)\u001b[0m\u001b[0;34m:\u001b[0m\u001b[0;34m\u001b[0m\u001b[0;34m\u001b[0m\u001b[0m\n\u001b[1;32m    300\u001b[0m                 \u001b[0;32mif\u001b[0m \u001b[0mwidget\u001b[0m \u001b[0;32mis\u001b[0m \u001b[0;32mNone\u001b[0m\u001b[0;34m:\u001b[0m\u001b[0;34m\u001b[0m\u001b[0;34m\u001b[0m\u001b[0m\n",
            "\u001b[0;32m/usr/local/lib/python3.11/dist-packages/ipywidgets/widgets/interaction.py\u001b[0m in \u001b[0;36mwidget_from_abbrev\u001b[0;34m(cls, abbrev, default)\u001b[0m\n\u001b[1;32m    315\u001b[0m \u001b[0;34m\u001b[0m\u001b[0m\n\u001b[1;32m    316\u001b[0m         \u001b[0;32mif\u001b[0m \u001b[0misinstance\u001b[0m\u001b[0;34m(\u001b[0m\u001b[0mabbrev\u001b[0m\u001b[0;34m,\u001b[0m \u001b[0mtuple\u001b[0m\u001b[0;34m)\u001b[0m\u001b[0;34m:\u001b[0m\u001b[0;34m\u001b[0m\u001b[0;34m\u001b[0m\u001b[0m\n\u001b[0;32m--> 317\u001b[0;31m             \u001b[0mwidget\u001b[0m \u001b[0;34m=\u001b[0m \u001b[0mcls\u001b[0m\u001b[0;34m.\u001b[0m\u001b[0mwidget_from_tuple\u001b[0m\u001b[0;34m(\u001b[0m\u001b[0mabbrev\u001b[0m\u001b[0;34m)\u001b[0m\u001b[0;34m\u001b[0m\u001b[0;34m\u001b[0m\u001b[0m\n\u001b[0m\u001b[1;32m    318\u001b[0m             \u001b[0;32mif\u001b[0m \u001b[0mdefault\u001b[0m \u001b[0;32mis\u001b[0m \u001b[0;32mnot\u001b[0m \u001b[0mempty\u001b[0m\u001b[0;34m:\u001b[0m\u001b[0;34m\u001b[0m\u001b[0;34m\u001b[0m\u001b[0m\n\u001b[1;32m    319\u001b[0m                 \u001b[0;32mtry\u001b[0m\u001b[0;34m:\u001b[0m\u001b[0;34m\u001b[0m\u001b[0;34m\u001b[0m\u001b[0m\n",
            "\u001b[0;32m/usr/local/lib/python3.11/dist-packages/ipywidgets/widgets/interaction.py\u001b[0m in \u001b[0;36mwidget_from_tuple\u001b[0;34m(o)\u001b[0m\n\u001b[1;32m    374\u001b[0m             \u001b[0;32mif\u001b[0m \u001b[0mstep\u001b[0m \u001b[0;34m<=\u001b[0m \u001b[0;36m0\u001b[0m\u001b[0;34m:\u001b[0m\u001b[0;34m\u001b[0m\u001b[0;34m\u001b[0m\u001b[0m\n\u001b[1;32m    375\u001b[0m                 \u001b[0;32mraise\u001b[0m \u001b[0mValueError\u001b[0m\u001b[0;34m(\u001b[0m\u001b[0;34m\"step must be >= 0, not %r\"\u001b[0m \u001b[0;34m%\u001b[0m \u001b[0mstep\u001b[0m\u001b[0;34m)\u001b[0m\u001b[0;34m\u001b[0m\u001b[0;34m\u001b[0m\u001b[0m\n\u001b[0;32m--> 376\u001b[0;31m             \u001b[0mmin\u001b[0m\u001b[0;34m,\u001b[0m \u001b[0mmax\u001b[0m\u001b[0;34m,\u001b[0m \u001b[0mvalue\u001b[0m \u001b[0;34m=\u001b[0m \u001b[0m_get_min_max_value\u001b[0m\u001b[0;34m(\u001b[0m\u001b[0mo\u001b[0m\u001b[0;34m[\u001b[0m\u001b[0;36m0\u001b[0m\u001b[0;34m]\u001b[0m\u001b[0;34m,\u001b[0m \u001b[0mo\u001b[0m\u001b[0;34m[\u001b[0m\u001b[0;36m1\u001b[0m\u001b[0;34m]\u001b[0m\u001b[0;34m,\u001b[0m \u001b[0mstep\u001b[0m\u001b[0;34m=\u001b[0m\u001b[0mstep\u001b[0m\u001b[0;34m)\u001b[0m\u001b[0;34m\u001b[0m\u001b[0;34m\u001b[0m\u001b[0m\n\u001b[0m\u001b[1;32m    377\u001b[0m             \u001b[0;32mif\u001b[0m \u001b[0mall\u001b[0m\u001b[0;34m(\u001b[0m\u001b[0misinstance\u001b[0m\u001b[0;34m(\u001b[0m\u001b[0m_\u001b[0m\u001b[0;34m,\u001b[0m \u001b[0mIntegral\u001b[0m\u001b[0;34m)\u001b[0m \u001b[0;32mfor\u001b[0m \u001b[0m_\u001b[0m \u001b[0;32min\u001b[0m \u001b[0mo\u001b[0m\u001b[0;34m)\u001b[0m\u001b[0;34m:\u001b[0m\u001b[0;34m\u001b[0m\u001b[0;34m\u001b[0m\u001b[0m\n\u001b[1;32m    378\u001b[0m                 \u001b[0mcls\u001b[0m \u001b[0;34m=\u001b[0m \u001b[0mIntSlider\u001b[0m\u001b[0;34m\u001b[0m\u001b[0;34m\u001b[0m\u001b[0m\n",
            "\u001b[0;32m/usr/local/lib/python3.11/dist-packages/ipywidgets/widgets/interaction.py\u001b[0m in \u001b[0;36m_get_min_max_value\u001b[0;34m(min, max, value, step)\u001b[0m\n\u001b[1;32m    126\u001b[0m         \u001b[0mvalue\u001b[0m \u001b[0;34m=\u001b[0m \u001b[0mmin\u001b[0m \u001b[0;34m+\u001b[0m \u001b[0mtick\u001b[0m \u001b[0;34m*\u001b[0m \u001b[0mstep\u001b[0m\u001b[0;34m\u001b[0m\u001b[0;34m\u001b[0m\u001b[0m\n\u001b[1;32m    127\u001b[0m     \u001b[0;32mif\u001b[0m \u001b[0;32mnot\u001b[0m \u001b[0mmin\u001b[0m \u001b[0;34m<=\u001b[0m \u001b[0mvalue\u001b[0m \u001b[0;34m<=\u001b[0m \u001b[0mmax\u001b[0m\u001b[0;34m:\u001b[0m\u001b[0;34m\u001b[0m\u001b[0;34m\u001b[0m\u001b[0m\n\u001b[0;32m--> 128\u001b[0;31m         \u001b[0;32mraise\u001b[0m \u001b[0mValueError\u001b[0m\u001b[0;34m(\u001b[0m\u001b[0;34m'value must be between min and max (min={0}, value={1}, max={2})'\u001b[0m\u001b[0;34m.\u001b[0m\u001b[0mformat\u001b[0m\u001b[0;34m(\u001b[0m\u001b[0mmin\u001b[0m\u001b[0;34m,\u001b[0m \u001b[0mvalue\u001b[0m\u001b[0;34m,\u001b[0m \u001b[0mmax\u001b[0m\u001b[0;34m)\u001b[0m\u001b[0;34m)\u001b[0m\u001b[0;34m\u001b[0m\u001b[0;34m\u001b[0m\u001b[0m\n\u001b[0m\u001b[1;32m    129\u001b[0m     \u001b[0;32mreturn\u001b[0m \u001b[0mmin\u001b[0m\u001b[0;34m,\u001b[0m \u001b[0mmax\u001b[0m\u001b[0;34m,\u001b[0m \u001b[0mvalue\u001b[0m\u001b[0;34m\u001b[0m\u001b[0;34m\u001b[0m\u001b[0m\n\u001b[1;32m    130\u001b[0m \u001b[0;34m\u001b[0m\u001b[0m\n",
            "\u001b[0;31mValueError\u001b[0m: value must be between min and max (min=0, value=-1, max=-1)"
          ]
        }
      ],
      "source": [
        "visulize_search_process(nodes,problem)"
      ]
    },
    {
      "cell_type": "markdown",
      "metadata": {
        "id": "UmnUGVCfALwp"
      },
      "source": [
        "#### Task 2:"
      ]
    },
    {
      "cell_type": "markdown",
      "metadata": {
        "id": "RXEm1nzzA0CN"
      },
      "source": [
        "##### Q1: What is the solution found by each algorithm?"
      ]
    },
    {
      "cell_type": "markdown",
      "metadata": {
        "id": "uDqx6QLEA7_E"
      },
      "source": [
        "DFS: s1->s2->s5->s7, ID/BFS: s1->s3->s7"
      ]
    },
    {
      "cell_type": "markdown",
      "metadata": {
        "id": "E7KfupOJA8pf"
      },
      "source": [
        "##### Q2: What is the actual optimal solution?"
      ]
    },
    {
      "cell_type": "markdown",
      "metadata": {
        "id": "nFAP2Cs5BfzL"
      },
      "source": [
        "\"Uniform cost search\"... look this up"
      ]
    },
    {
      "cell_type": "markdown",
      "metadata": {
        "id": "vXEd4LMhBgWq"
      },
      "source": [
        "##### Q3: Explain under which conditions the algorithms guarantee optimality?"
      ]
    },
    {
      "cell_type": "markdown",
      "metadata": {
        "id": "edH4piKXBuXq"
      },
      "source": [
        "If it considers edge weight"
      ]
    },
    {
      "cell_type": "markdown",
      "metadata": {
        "id": "y0Av9c4xBy6c"
      },
      "source": [
        "##### Q4: Can any of the previous algorithms be adapted to account for $g(n)$ in order to make it optimal?"
      ]
    },
    {
      "cell_type": "markdown",
      "metadata": {
        "id": "8MJ_rU_oF252"
      },
      "source": [
        "(are we talking about optimal in terms of edge cost or time taken to find a succesful path?)"
      ]
    },
    {
      "cell_type": "markdown",
      "metadata": {
        "id": "m4KDVuIyPu19"
      },
      "source": [
        "### Problem 3:\n"
      ]
    },
    {
      "cell_type": "markdown",
      "metadata": {
        "id": "BVvOhutAP1g1"
      },
      "source": [
        "Describe a simple example of *Travelling Salesman Problem* along with its corresponding **State Space Model**.\n",
        "\n",
        "\n",
        "\n",
        "Definition should be brief, clear, and\n",
        "*compact* (*compact* means using mathematical notation to\n",
        "  define sets, i.e. $S = \\{ x | x \\in V \\}$ to define that there are\n",
        "  as many states as elements in the set $V$, and pseudo-code, i.e. to\n",
        "  define the transition function.)\n",
        "\n",
        "1. State space $S$\n",
        "2. Initial state $s_0 \\in S$\n",
        "3. Set of goal states  $S_G \\subseteq S$\n",
        "4. Applicable actions function $A(s)$ for each state $s \\in S$\n",
        "5. Transition function $f(s,a)$ for $s \\in S$ and $a \\in A(s)$\n",
        "6. Cost of each action $c(a)$ for $a \\in A(s)$"
      ]
    },
    {
      "cell_type": "markdown",
      "metadata": {
        "id": "6rj-WB1ITLIL"
      },
      "source": [
        "**Hint**: Consider a set of cities $V$ to visit in any order, a starting city location $v_{start}$, and a set of edges $E$ specifying if there's an edge from two cities $\\langle v_1, v_2 \\rangle$.\n",
        "Let $V'$ be the set of cities has been visited.\n",
        "\n"
      ]
    },
    {
      "cell_type": "markdown",
      "source": [
        "Attempt:\n",
        "\n",
        "$S = \\{(v, V') \\mid v \\in V, V' \\subseteq V\\}$\n",
        "\n",
        "$s_0 = (v_{\\text{start}}, \\{v_{\\text{start}}\\})$\n",
        "\n",
        "$S_G = \\{(v, V) \\mid v = v_{\\text{start}}, |V'| = |V|\\}$\n",
        "\n",
        "$A(s) = \\{ \\langle v_{\\text{1}}, v_{\\text{2}} \\rangle \\mid \\langle v_{\\text{1}}, v_{\\text{2}} \\rangle \\in E, v_{\\text{2}} \\notin V'\\}$\n",
        "\n",
        "$f((v_1, V'), \\langle v_1, v_2 \\rangle) = (v_2, V' \\cup \\{v_2\\})$\n",
        "\n",
        "$c(\\langle v_1, v_2 \\rangle) = d(v_1, v_2)$\n",
        "\n",
        "```\n",
        "transition(s, a):\n",
        "    (current_city, visited_cities) = s\n",
        "    (v1, v2) = a\n",
        "\n",
        "    if v1 == current_city and v2 not in visited_cities:\n",
        "        new_state = (v2, visited_cities ∪ {v2})\n",
        "        return new_state\n",
        "    return none\n",
        "```\n",
        "\n"
      ],
      "metadata": {
        "id": "Tjgmrkms-fv-"
      }
    },
    {
      "cell_type": "markdown",
      "metadata": {
        "id": "LSrmYAFEUWkx"
      },
      "source": [
        "### Challenge Problem 1:"
      ]
    },
    {
      "cell_type": "markdown",
      "metadata": {
        "id": "ZSwCuPTM9SPs"
      },
      "source": [
        "Review problem 2, instead of manual input the node expansion order, now you can try to implement those blind search algorithm on your own."
      ]
    },
    {
      "cell_type": "markdown",
      "metadata": {
        "id": "TCoZgSda9KB3"
      },
      "source": [
        "#### State transition graph:\n",
        "\n",
        "![image.png](data:image/png;base64,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)\n"
      ]
    },
    {
      "cell_type": "markdown",
      "metadata": {
        "id": "oCGzbSGEUpTP"
      },
      "source": [
        "#### Algorithm Implementation: BFS"
      ]
    },
    {
      "cell_type": "code",
      "execution_count": 82,
      "metadata": {
        "id": "_pEe5X3sVJAH"
      },
      "outputs": [],
      "source": [
        "from collections import deque\n",
        "\n",
        "# Instead of return the final solution, your function here should append the node when it gets expanded, and return the expanded list\n",
        "def BFS(problem):\n",
        "    expansion_order = [] # e.g. ('s1',0,None)\n",
        "    visited = set()\n",
        "\n",
        "    queue = deque()\n",
        "    queue.append(problem.initial_state)\n",
        "\n",
        "    visited.add(problem.initial_state)\n",
        "    expansion_order.append((problem.initial_state, 0, None))\n",
        "\n",
        "    parent = 0\n",
        "\n",
        "    while len(queue) > 0:\n",
        "        state = queue.popleft()\n",
        "\n",
        "        for action in problem.actions[state]:\n",
        "            new_state = problem.transition_function[(state, (action[0], action[1]))] # or just new_state = action[1]?\n",
        "            if new_state is not None and new_state not in visited:\n",
        "                queue.append(new_state)\n",
        "                visited.add(new_state)\n",
        "\n",
        "                previous_cost = next(t[1] for t in expansion_order if t[0] == state)\n",
        "                expansion_order.append((new_state, (previous_cost + problem.costs[(state, new_state)]), parent))\n",
        "\n",
        "                if new_state in problem.goal_states: # how do we handle multiple goal states tho?\n",
        "                    print('goal found' , new_state)\n",
        "                    return expansion_order\n",
        "\n",
        "        parent += 1\n",
        "\n",
        "    print('goal not found')\n",
        "    return expansion_order"
      ]
    },
    {
      "cell_type": "code",
      "execution_count": 83,
      "metadata": {
        "id": "WZRlact4ZWsy",
        "colab": {
          "base_uri": "https://localhost:8080/",
          "height": 498,
          "referenced_widgets": [
            "aca59cc0051f4f46ab8b77df6553c09a",
            "5bddbc274dbb4e14adfbf7671cbd767b",
            "d9757f9d4d9b452bb57378f802353141",
            "8981263a88c549fbba20fd3661b22ddc",
            "4b5317dcd4af4e06b21a1e8604184586",
            "aa556ff80ef945d5b8a2e8b003191105",
            "15109bae08324a1fa122f5a6d96d5a75"
          ]
        },
        "outputId": "d2b2ff1f-dbeb-4991-e634-7545174bd5de"
      },
      "outputs": [
        {
          "output_type": "stream",
          "name": "stdout",
          "text": [
            "0\n",
            "0\n",
            "0\n",
            "2\n",
            "goal found s7\n"
          ]
        },
        {
          "output_type": "display_data",
          "data": {
            "text/plain": [
              "interactive(children=(IntSlider(value=2, description='idx', max=4), Output()), _dom_classes=('widget-interact'…"
            ],
            "application/vnd.jupyter.widget-view+json": {
              "version_major": 2,
              "version_minor": 0,
              "model_id": "aca59cc0051f4f46ab8b77df6553c09a"
            }
          },
          "metadata": {}
        }
      ],
      "source": [
        "visulize_search_process(BFS(problem),problem)"
      ]
    },
    {
      "cell_type": "markdown",
      "metadata": {
        "id": "iUgj54NpaCzE"
      },
      "source": [
        "#### Algorithm Implementation: DFS"
      ]
    },
    {
      "cell_type": "code",
      "execution_count": 24,
      "metadata": {
        "id": "6BALYV0faGdE"
      },
      "outputs": [],
      "source": [
        "# Instead of return the final solution, your function here should append the node when it gets expanded, and return the expanded list\n",
        "def DFS(problem):\n",
        "    expansion_order = []\n",
        "    # Your code here:\n",
        "\n",
        "    return expansion_order"
      ]
    },
    {
      "cell_type": "code",
      "execution_count": 25,
      "metadata": {
        "id": "seilI7S5aTUM",
        "colab": {
          "base_uri": "https://localhost:8080/",
          "height": 131,
          "referenced_widgets": [
            "6854cd6ca2f24cb9ae3ce21d96bd4da1",
            "e7441456d5b348f3b2cb6da4d46007f6",
            "28dd6007294142ff83cf2e905170e49f",
            "b8086b0adc0947bebf1fc29e447cabf9",
            "fcb01a7ad9374e2a8798257e864fe357",
            "f0e7d59899ab4e70b9df4bb6e997b364",
            "8382bd7f584240ec9d8cf9f3b6e42b71"
          ]
        },
        "outputId": "adf53d35-ef08-4f4a-8da1-046282b92d10"
      },
      "outputs": [
        {
          "output_type": "display_data",
          "data": {
            "text/plain": [
              "interactive(children=(IntSlider(value=0, description='idx', max=0), Output()), _dom_classes=('widget-interact'…"
            ],
            "application/vnd.jupyter.widget-view+json": {
              "version_major": 2,
              "version_minor": 0,
              "model_id": "6854cd6ca2f24cb9ae3ce21d96bd4da1"
            }
          },
          "metadata": {}
        }
      ],
      "source": [
        "visulize_search_process(DFS(problem),problem)"
      ]
    },
    {
      "cell_type": "markdown",
      "metadata": {
        "id": "JTBmIPngGGi5"
      },
      "source": [
        "#### Algorithm Implementation: ID"
      ]
    },
    {
      "cell_type": "code",
      "execution_count": null,
      "metadata": {
        "id": "7y7ee7IHGGi-"
      },
      "outputs": [],
      "source": [
        "# Instead of return the final solution, your function here should append the node when it gets expanded, and return the expanded list\n",
        "def ID(problem):\n",
        "    expansion_order = []\n",
        "    # Your code here:\n",
        "\n",
        "    return expansion_order"
      ]
    },
    {
      "cell_type": "code",
      "execution_count": null,
      "metadata": {
        "id": "sRublBFlGGjD"
      },
      "outputs": [],
      "source": [
        "visulize_search_process(ID(problem),problem)"
      ]
    }
  ],
  "metadata": {
    "colab": {
      "name": "problem_set_01.ipynb",
      "provenance": [],
      "toc_visible": true,
      "include_colab_link": true
    },
    "kernelspec": {
      "display_name": "Python 3",
      "name": "python3"
    },
    "language_info": {
      "name": "python"
    },
    "widgets": {
      "application/vnd.jupyter.widget-state+json": {
        "3acc7a81c9854e0d8b6270c633512768": {
          "model_module": "@jupyter-widgets/controls",
          "model_name": "VBoxModel",
          "model_module_version": "1.5.0",
          "state": {
            "_dom_classes": [
              "widget-interact"
            ],
            "_model_module": "@jupyter-widgets/controls",
            "_model_module_version": "1.5.0",
            "_model_name": "VBoxModel",
            "_view_count": null,
            "_view_module": "@jupyter-widgets/controls",
            "_view_module_version": "1.5.0",
            "_view_name": "VBoxView",
            "box_style": "",
            "children": [
              "IPY_MODEL_b0955cc80513412f84584107768df11b",
              "IPY_MODEL_64c2f29dac724eddb97bc8cd36dac35d"
            ],
            "layout": "IPY_MODEL_7d7aed1818e445a6ae355f4323ccbcd9"
          }
        },
        "b0955cc80513412f84584107768df11b": {
          "model_module": "@jupyter-widgets/controls",
          "model_name": "IntSliderModel",
          "model_module_version": "1.5.0",
          "state": {
            "_dom_classes": [],
            "_model_module": "@jupyter-widgets/controls",
            "_model_module_version": "1.5.0",
            "_model_name": "IntSliderModel",
            "_view_count": null,
            "_view_module": "@jupyter-widgets/controls",
            "_view_module_version": "1.5.0",
            "_view_name": "IntSliderView",
            "continuous_update": true,
            "description": "idx",
            "description_tooltip": null,
            "disabled": false,
            "layout": "IPY_MODEL_973b963ee9eb482784af2cfb1122eccf",
            "max": 5,
            "min": 0,
            "orientation": "horizontal",
            "readout": true,
            "readout_format": "d",
            "step": 1,
            "style": "IPY_MODEL_0085a846d1a040e891bd1a5b60163644",
            "value": 5
          }
        },
        "64c2f29dac724eddb97bc8cd36dac35d": {
          "model_module": "@jupyter-widgets/output",
          "model_name": "OutputModel",
          "model_module_version": "1.0.0",
          "state": {
            "_dom_classes": [],
            "_model_module": "@jupyter-widgets/output",
            "_model_module_version": "1.0.0",
            "_model_name": "OutputModel",
            "_view_count": null,
            "_view_module": "@jupyter-widgets/output",
            "_view_module_version": "1.0.0",
            "_view_name": "OutputView",
            "layout": "IPY_MODEL_695cc1b085b34dffaa7e88b407dc24da",
            "msg_id": "",
            "outputs": [
              {
                "output_type": "display_data",
                "data": {
                  "image/png": "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\n",
                  "text/plain": "<IPython.core.display.Image object>"
                },
                "metadata": {}
              }
            ]
          }
        },
        "7d7aed1818e445a6ae355f4323ccbcd9": {
          "model_module": "@jupyter-widgets/base",
          "model_name": "LayoutModel",
          "model_module_version": "1.2.0",
          "state": {
            "_model_module": "@jupyter-widgets/base",
            "_model_module_version": "1.2.0",
            "_model_name": "LayoutModel",
            "_view_count": null,
            "_view_module": "@jupyter-widgets/base",
            "_view_module_version": "1.2.0",
            "_view_name": "LayoutView",
            "align_content": null,
            "align_items": null,
            "align_self": null,
            "border": null,
            "bottom": null,
            "display": null,
            "flex": null,
            "flex_flow": null,
            "grid_area": null,
            "grid_auto_columns": null,
            "grid_auto_flow": null,
            "grid_auto_rows": null,
            "grid_column": null,
            "grid_gap": null,
            "grid_row": null,
            "grid_template_areas": null,
            "grid_template_columns": null,
            "grid_template_rows": null,
            "height": null,
            "justify_content": null,
            "justify_items": null,
            "left": null,
            "margin": null,
            "max_height": null,
            "max_width": null,
            "min_height": null,
            "min_width": null,
            "object_fit": null,
            "object_position": null,
            "order": null,
            "overflow": null,
            "overflow_x": null,
            "overflow_y": null,
            "padding": null,
            "right": null,
            "top": null,
            "visibility": null,
            "width": null
          }
        },
        "973b963ee9eb482784af2cfb1122eccf": {
          "model_module": "@jupyter-widgets/base",
          "model_name": "LayoutModel",
          "model_module_version": "1.2.0",
          "state": {
            "_model_module": "@jupyter-widgets/base",
            "_model_module_version": "1.2.0",
            "_model_name": "LayoutModel",
            "_view_count": null,
            "_view_module": "@jupyter-widgets/base",
            "_view_module_version": "1.2.0",
            "_view_name": "LayoutView",
            "align_content": null,
            "align_items": null,
            "align_self": null,
            "border": null,
            "bottom": null,
            "display": null,
            "flex": null,
            "flex_flow": null,
            "grid_area": null,
            "grid_auto_columns": null,
            "grid_auto_flow": null,
            "grid_auto_rows": null,
            "grid_column": null,
            "grid_gap": null,
            "grid_row": null,
            "grid_template_areas": null,
            "grid_template_columns": null,
            "grid_template_rows": null,
            "height": null,
            "justify_content": null,
            "justify_items": null,
            "left": null,
            "margin": null,
            "max_height": null,
            "max_width": null,
            "min_height": null,
            "min_width": null,
            "object_fit": null,
            "object_position": null,
            "order": null,
            "overflow": null,
            "overflow_x": null,
            "overflow_y": null,
            "padding": null,
            "right": null,
            "top": null,
            "visibility": null,
            "width": null
          }
        },
        "0085a846d1a040e891bd1a5b60163644": {
          "model_module": "@jupyter-widgets/controls",
          "model_name": "SliderStyleModel",
          "model_module_version": "1.5.0",
          "state": {
            "_model_module": "@jupyter-widgets/controls",
            "_model_module_version": "1.5.0",
            "_model_name": "SliderStyleModel",
            "_view_count": null,
            "_view_module": "@jupyter-widgets/base",
            "_view_module_version": "1.2.0",
            "_view_name": "StyleView",
            "description_width": "",
            "handle_color": null
          }
        },
        "695cc1b085b34dffaa7e88b407dc24da": {
          "model_module": "@jupyter-widgets/base",
          "model_name": "LayoutModel",
          "model_module_version": "1.2.0",
          "state": {
            "_model_module": "@jupyter-widgets/base",
            "_model_module_version": "1.2.0",
            "_model_name": "LayoutModel",
            "_view_count": null,
            "_view_module": "@jupyter-widgets/base",
            "_view_module_version": "1.2.0",
            "_view_name": "LayoutView",
            "align_content": null,
            "align_items": null,
            "align_self": null,
            "border": null,
            "bottom": null,
            "display": null,
            "flex": null,
            "flex_flow": null,
            "grid_area": null,
            "grid_auto_columns": null,
            "grid_auto_flow": null,
            "grid_auto_rows": null,
            "grid_column": null,
            "grid_gap": null,
            "grid_row": null,
            "grid_template_areas": null,
            "grid_template_columns": null,
            "grid_template_rows": null,
            "height": null,
            "justify_content": null,
            "justify_items": null,
            "left": null,
            "margin": null,
            "max_height": null,
            "max_width": null,
            "min_height": null,
            "min_width": null,
            "object_fit": null,
            "object_position": null,
            "order": null,
            "overflow": null,
            "overflow_x": null,
            "overflow_y": null,
            "padding": null,
            "right": null,
            "top": null,
            "visibility": null,
            "width": null
          }
        },
        "154867f1269340bb8d19ddf80838d7b4": {
          "model_module": "@jupyter-widgets/controls",
          "model_name": "VBoxModel",
          "model_module_version": "1.5.0",
          "state": {
            "_dom_classes": [
              "widget-interact"
            ],
            "_model_module": "@jupyter-widgets/controls",
            "_model_module_version": "1.5.0",
            "_model_name": "VBoxModel",
            "_view_count": null,
            "_view_module": "@jupyter-widgets/controls",
            "_view_module_version": "1.5.0",
            "_view_name": "VBoxView",
            "box_style": "",
            "children": [
              "IPY_MODEL_add809c0b34345b59b596a3fb1db6ef5",
              "IPY_MODEL_f15dc0f8f5b943d7bd432727e0a2ad3d"
            ],
            "layout": "IPY_MODEL_62cf6177c17f46308d000729b9270d1b"
          }
        },
        "add809c0b34345b59b596a3fb1db6ef5": {
          "model_module": "@jupyter-widgets/controls",
          "model_name": "IntSliderModel",
          "model_module_version": "1.5.0",
          "state": {
            "_dom_classes": [],
            "_model_module": "@jupyter-widgets/controls",
            "_model_module_version": "1.5.0",
            "_model_name": "IntSliderModel",
            "_view_count": null,
            "_view_module": "@jupyter-widgets/controls",
            "_view_module_version": "1.5.0",
            "_view_name": "IntSliderView",
            "continuous_update": true,
            "description": "idx",
            "description_tooltip": null,
            "disabled": false,
            "layout": "IPY_MODEL_48b34e3c346342d2adaf3c2a4c973d90",
            "max": 3,
            "min": 0,
            "orientation": "horizontal",
            "readout": true,
            "readout_format": "d",
            "step": 1,
            "style": "IPY_MODEL_a19f941870044e068f6ecf8edc570a67",
            "value": 1
          }
        },
        "f15dc0f8f5b943d7bd432727e0a2ad3d": {
          "model_module": "@jupyter-widgets/output",
          "model_name": "OutputModel",
          "model_module_version": "1.0.0",
          "state": {
            "_dom_classes": [],
            "_model_module": "@jupyter-widgets/output",
            "_model_module_version": "1.0.0",
            "_model_name": "OutputModel",
            "_view_count": null,
            "_view_module": "@jupyter-widgets/output",
            "_view_module_version": "1.0.0",
            "_view_name": "OutputView",
            "layout": "IPY_MODEL_b2b018cda8e04f5d873d9bd2721516dd",
            "msg_id": "",
            "outputs": [
              {
                "output_type": "display_data",
                "data": {
                  "image/png": "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\n",
                  "text/plain": "<IPython.core.display.Image object>"
                },
                "metadata": {}
              }
            ]
          }
        },
        "62cf6177c17f46308d000729b9270d1b": {
          "model_module": "@jupyter-widgets/base",
          "model_name": "LayoutModel",
          "model_module_version": "1.2.0",
          "state": {
            "_model_module": "@jupyter-widgets/base",
            "_model_module_version": "1.2.0",
            "_model_name": "LayoutModel",
            "_view_count": null,
            "_view_module": "@jupyter-widgets/base",
            "_view_module_version": "1.2.0",
            "_view_name": "LayoutView",
            "align_content": null,
            "align_items": null,
            "align_self": null,
            "border": null,
            "bottom": null,
            "display": null,
            "flex": null,
            "flex_flow": null,
            "grid_area": null,
            "grid_auto_columns": null,
            "grid_auto_flow": null,
            "grid_auto_rows": null,
            "grid_column": null,
            "grid_gap": null,
            "grid_row": null,
            "grid_template_areas": null,
            "grid_template_columns": null,
            "grid_template_rows": null,
            "height": null,
            "justify_content": null,
            "justify_items": null,
            "left": null,
            "margin": null,
            "max_height": null,
            "max_width": null,
            "min_height": null,
            "min_width": null,
            "object_fit": null,
            "object_position": null,
            "order": null,
            "overflow": null,
            "overflow_x": null,
            "overflow_y": null,
            "padding": null,
            "right": null,
            "top": null,
            "visibility": null,
            "width": null
          }
        },
        "48b34e3c346342d2adaf3c2a4c973d90": {
          "model_module": "@jupyter-widgets/base",
          "model_name": "LayoutModel",
          "model_module_version": "1.2.0",
          "state": {
            "_model_module": "@jupyter-widgets/base",
            "_model_module_version": "1.2.0",
            "_model_name": "LayoutModel",
            "_view_count": null,
            "_view_module": "@jupyter-widgets/base",
            "_view_module_version": "1.2.0",
            "_view_name": "LayoutView",
            "align_content": null,
            "align_items": null,
            "align_self": null,
            "border": null,
            "bottom": null,
            "display": null,
            "flex": null,
            "flex_flow": null,
            "grid_area": null,
            "grid_auto_columns": null,
            "grid_auto_flow": null,
            "grid_auto_rows": null,
            "grid_column": null,
            "grid_gap": null,
            "grid_row": null,
            "grid_template_areas": null,
            "grid_template_columns": null,
            "grid_template_rows": null,
            "height": null,
            "justify_content": null,
            "justify_items": null,
            "left": null,
            "margin": null,
            "max_height": null,
            "max_width": null,
            "min_height": null,
            "min_width": null,
            "object_fit": null,
            "object_position": null,
            "order": null,
            "overflow": null,
            "overflow_x": null,
            "overflow_y": null,
            "padding": null,
            "right": null,
            "top": null,
            "visibility": null,
            "width": null
          }
        },
        "a19f941870044e068f6ecf8edc570a67": {
          "model_module": "@jupyter-widgets/controls",
          "model_name": "SliderStyleModel",
          "model_module_version": "1.5.0",
          "state": {
            "_model_module": "@jupyter-widgets/controls",
            "_model_module_version": "1.5.0",
            "_model_name": "SliderStyleModel",
            "_view_count": null,
            "_view_module": "@jupyter-widgets/base",
            "_view_module_version": "1.2.0",
            "_view_name": "StyleView",
            "description_width": "",
            "handle_color": null
          }
        },
        "b2b018cda8e04f5d873d9bd2721516dd": {
          "model_module": "@jupyter-widgets/base",
          "model_name": "LayoutModel",
          "model_module_version": "1.2.0",
          "state": {
            "_model_module": "@jupyter-widgets/base",
            "_model_module_version": "1.2.0",
            "_model_name": "LayoutModel",
            "_view_count": null,
            "_view_module": "@jupyter-widgets/base",
            "_view_module_version": "1.2.0",
            "_view_name": "LayoutView",
            "align_content": null,
            "align_items": null,
            "align_self": null,
            "border": null,
            "bottom": null,
            "display": null,
            "flex": null,
            "flex_flow": null,
            "grid_area": null,
            "grid_auto_columns": null,
            "grid_auto_flow": null,
            "grid_auto_rows": null,
            "grid_column": null,
            "grid_gap": null,
            "grid_row": null,
            "grid_template_areas": null,
            "grid_template_columns": null,
            "grid_template_rows": null,
            "height": null,
            "justify_content": null,
            "justify_items": null,
            "left": null,
            "margin": null,
            "max_height": null,
            "max_width": null,
            "min_height": null,
            "min_width": null,
            "object_fit": null,
            "object_position": null,
            "order": null,
            "overflow": null,
            "overflow_x": null,
            "overflow_y": null,
            "padding": null,
            "right": null,
            "top": null,
            "visibility": null,
            "width": null
          }
        },
        "aca59cc0051f4f46ab8b77df6553c09a": {
          "model_module": "@jupyter-widgets/controls",
          "model_name": "VBoxModel",
          "model_module_version": "1.5.0",
          "state": {
            "_dom_classes": [
              "widget-interact"
            ],
            "_model_module": "@jupyter-widgets/controls",
            "_model_module_version": "1.5.0",
            "_model_name": "VBoxModel",
            "_view_count": null,
            "_view_module": "@jupyter-widgets/controls",
            "_view_module_version": "1.5.0",
            "_view_name": "VBoxView",
            "box_style": "",
            "children": [
              "IPY_MODEL_5bddbc274dbb4e14adfbf7671cbd767b",
              "IPY_MODEL_d9757f9d4d9b452bb57378f802353141"
            ],
            "layout": "IPY_MODEL_8981263a88c549fbba20fd3661b22ddc"
          }
        },
        "5bddbc274dbb4e14adfbf7671cbd767b": {
          "model_module": "@jupyter-widgets/controls",
          "model_name": "IntSliderModel",
          "model_module_version": "1.5.0",
          "state": {
            "_dom_classes": [],
            "_model_module": "@jupyter-widgets/controls",
            "_model_module_version": "1.5.0",
            "_model_name": "IntSliderModel",
            "_view_count": null,
            "_view_module": "@jupyter-widgets/controls",
            "_view_module_version": "1.5.0",
            "_view_name": "IntSliderView",
            "continuous_update": true,
            "description": "idx",
            "description_tooltip": null,
            "disabled": false,
            "layout": "IPY_MODEL_4b5317dcd4af4e06b21a1e8604184586",
            "max": 4,
            "min": 0,
            "orientation": "horizontal",
            "readout": true,
            "readout_format": "d",
            "step": 1,
            "style": "IPY_MODEL_aa556ff80ef945d5b8a2e8b003191105",
            "value": 4
          }
        },
        "d9757f9d4d9b452bb57378f802353141": {
          "model_module": "@jupyter-widgets/output",
          "model_name": "OutputModel",
          "model_module_version": "1.0.0",
          "state": {
            "_dom_classes": [],
            "_model_module": "@jupyter-widgets/output",
            "_model_module_version": "1.0.0",
            "_model_name": "OutputModel",
            "_view_count": null,
            "_view_module": "@jupyter-widgets/output",
            "_view_module_version": "1.0.0",
            "_view_name": "OutputView",
            "layout": "IPY_MODEL_15109bae08324a1fa122f5a6d96d5a75",
            "msg_id": "",
            "outputs": [
              {
                "output_type": "display_data",
                "data": {
                  "image/png": "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\n",
                  "text/plain": "<IPython.core.display.Image object>"
                },
                "metadata": {}
              }
            ]
          }
        },
        "8981263a88c549fbba20fd3661b22ddc": {
          "model_module": "@jupyter-widgets/base",
          "model_name": "LayoutModel",
          "model_module_version": "1.2.0",
          "state": {
            "_model_module": "@jupyter-widgets/base",
            "_model_module_version": "1.2.0",
            "_model_name": "LayoutModel",
            "_view_count": null,
            "_view_module": "@jupyter-widgets/base",
            "_view_module_version": "1.2.0",
            "_view_name": "LayoutView",
            "align_content": null,
            "align_items": null,
            "align_self": null,
            "border": null,
            "bottom": null,
            "display": null,
            "flex": null,
            "flex_flow": null,
            "grid_area": null,
            "grid_auto_columns": null,
            "grid_auto_flow": null,
            "grid_auto_rows": null,
            "grid_column": null,
            "grid_gap": null,
            "grid_row": null,
            "grid_template_areas": null,
            "grid_template_columns": null,
            "grid_template_rows": null,
            "height": null,
            "justify_content": null,
            "justify_items": null,
            "left": null,
            "margin": null,
            "max_height": null,
            "max_width": null,
            "min_height": null,
            "min_width": null,
            "object_fit": null,
            "object_position": null,
            "order": null,
            "overflow": null,
            "overflow_x": null,
            "overflow_y": null,
            "padding": null,
            "right": null,
            "top": null,
            "visibility": null,
            "width": null
          }
        },
        "4b5317dcd4af4e06b21a1e8604184586": {
          "model_module": "@jupyter-widgets/base",
          "model_name": "LayoutModel",
          "model_module_version": "1.2.0",
          "state": {
            "_model_module": "@jupyter-widgets/base",
            "_model_module_version": "1.2.0",
            "_model_name": "LayoutModel",
            "_view_count": null,
            "_view_module": "@jupyter-widgets/base",
            "_view_module_version": "1.2.0",
            "_view_name": "LayoutView",
            "align_content": null,
            "align_items": null,
            "align_self": null,
            "border": null,
            "bottom": null,
            "display": null,
            "flex": null,
            "flex_flow": null,
            "grid_area": null,
            "grid_auto_columns": null,
            "grid_auto_flow": null,
            "grid_auto_rows": null,
            "grid_column": null,
            "grid_gap": null,
            "grid_row": null,
            "grid_template_areas": null,
            "grid_template_columns": null,
            "grid_template_rows": null,
            "height": null,
            "justify_content": null,
            "justify_items": null,
            "left": null,
            "margin": null,
            "max_height": null,
            "max_width": null,
            "min_height": null,
            "min_width": null,
            "object_fit": null,
            "object_position": null,
            "order": null,
            "overflow": null,
            "overflow_x": null,
            "overflow_y": null,
            "padding": null,
            "right": null,
            "top": null,
            "visibility": null,
            "width": null
          }
        },
        "aa556ff80ef945d5b8a2e8b003191105": {
          "model_module": "@jupyter-widgets/controls",
          "model_name": "SliderStyleModel",
          "model_module_version": "1.5.0",
          "state": {
            "_model_module": "@jupyter-widgets/controls",
            "_model_module_version": "1.5.0",
            "_model_name": "SliderStyleModel",
            "_view_count": null,
            "_view_module": "@jupyter-widgets/base",
            "_view_module_version": "1.2.0",
            "_view_name": "StyleView",
            "description_width": "",
            "handle_color": null
          }
        },
        "15109bae08324a1fa122f5a6d96d5a75": {
          "model_module": "@jupyter-widgets/base",
          "model_name": "LayoutModel",
          "model_module_version": "1.2.0",
          "state": {
            "_model_module": "@jupyter-widgets/base",
            "_model_module_version": "1.2.0",
            "_model_name": "LayoutModel",
            "_view_count": null,
            "_view_module": "@jupyter-widgets/base",
            "_view_module_version": "1.2.0",
            "_view_name": "LayoutView",
            "align_content": null,
            "align_items": null,
            "align_self": null,
            "border": null,
            "bottom": null,
            "display": null,
            "flex": null,
            "flex_flow": null,
            "grid_area": null,
            "grid_auto_columns": null,
            "grid_auto_flow": null,
            "grid_auto_rows": null,
            "grid_column": null,
            "grid_gap": null,
            "grid_row": null,
            "grid_template_areas": null,
            "grid_template_columns": null,
            "grid_template_rows": null,
            "height": null,
            "justify_content": null,
            "justify_items": null,
            "left": null,
            "margin": null,
            "max_height": null,
            "max_width": null,
            "min_height": null,
            "min_width": null,
            "object_fit": null,
            "object_position": null,
            "order": null,
            "overflow": null,
            "overflow_x": null,
            "overflow_y": null,
            "padding": null,
            "right": null,
            "top": null,
            "visibility": null,
            "width": null
          }
        },
        "6854cd6ca2f24cb9ae3ce21d96bd4da1": {
          "model_module": "@jupyter-widgets/controls",
          "model_name": "VBoxModel",
          "model_module_version": "1.5.0",
          "state": {
            "_dom_classes": [
              "widget-interact"
            ],
            "_model_module": "@jupyter-widgets/controls",
            "_model_module_version": "1.5.0",
            "_model_name": "VBoxModel",
            "_view_count": null,
            "_view_module": "@jupyter-widgets/controls",
            "_view_module_version": "1.5.0",
            "_view_name": "VBoxView",
            "box_style": "",
            "children": [
              "IPY_MODEL_e7441456d5b348f3b2cb6da4d46007f6",
              "IPY_MODEL_28dd6007294142ff83cf2e905170e49f"
            ],
            "layout": "IPY_MODEL_b8086b0adc0947bebf1fc29e447cabf9"
          }
        },
        "e7441456d5b348f3b2cb6da4d46007f6": {
          "model_module": "@jupyter-widgets/controls",
          "model_name": "IntSliderModel",
          "model_module_version": "1.5.0",
          "state": {
            "_dom_classes": [],
            "_model_module": "@jupyter-widgets/controls",
            "_model_module_version": "1.5.0",
            "_model_name": "IntSliderModel",
            "_view_count": null,
            "_view_module": "@jupyter-widgets/controls",
            "_view_module_version": "1.5.0",
            "_view_name": "IntSliderView",
            "continuous_update": true,
            "description": "idx",
            "description_tooltip": null,
            "disabled": false,
            "layout": "IPY_MODEL_fcb01a7ad9374e2a8798257e864fe357",
            "max": 0,
            "min": 0,
            "orientation": "horizontal",
            "readout": true,
            "readout_format": "d",
            "step": 1,
            "style": "IPY_MODEL_f0e7d59899ab4e70b9df4bb6e997b364",
            "value": 0
          }
        },
        "28dd6007294142ff83cf2e905170e49f": {
          "model_module": "@jupyter-widgets/output",
          "model_name": "OutputModel",
          "model_module_version": "1.0.0",
          "state": {
            "_dom_classes": [],
            "_model_module": "@jupyter-widgets/output",
            "_model_module_version": "1.0.0",
            "_model_name": "OutputModel",
            "_view_count": null,
            "_view_module": "@jupyter-widgets/output",
            "_view_module_version": "1.0.0",
            "_view_name": "OutputView",
            "layout": "IPY_MODEL_8382bd7f584240ec9d8cf9f3b6e42b71",
            "msg_id": "",
            "outputs": [
              {
                "output_type": "display_data",
                "data": {
                  "image/png": "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\n",
                  "text/plain": "<IPython.core.display.Image object>"
                },
                "metadata": {}
              }
            ]
          }
        },
        "b8086b0adc0947bebf1fc29e447cabf9": {
          "model_module": "@jupyter-widgets/base",
          "model_name": "LayoutModel",
          "model_module_version": "1.2.0",
          "state": {
            "_model_module": "@jupyter-widgets/base",
            "_model_module_version": "1.2.0",
            "_model_name": "LayoutModel",
            "_view_count": null,
            "_view_module": "@jupyter-widgets/base",
            "_view_module_version": "1.2.0",
            "_view_name": "LayoutView",
            "align_content": null,
            "align_items": null,
            "align_self": null,
            "border": null,
            "bottom": null,
            "display": null,
            "flex": null,
            "flex_flow": null,
            "grid_area": null,
            "grid_auto_columns": null,
            "grid_auto_flow": null,
            "grid_auto_rows": null,
            "grid_column": null,
            "grid_gap": null,
            "grid_row": null,
            "grid_template_areas": null,
            "grid_template_columns": null,
            "grid_template_rows": null,
            "height": null,
            "justify_content": null,
            "justify_items": null,
            "left": null,
            "margin": null,
            "max_height": null,
            "max_width": null,
            "min_height": null,
            "min_width": null,
            "object_fit": null,
            "object_position": null,
            "order": null,
            "overflow": null,
            "overflow_x": null,
            "overflow_y": null,
            "padding": null,
            "right": null,
            "top": null,
            "visibility": null,
            "width": null
          }
        },
        "fcb01a7ad9374e2a8798257e864fe357": {
          "model_module": "@jupyter-widgets/base",
          "model_name": "LayoutModel",
          "model_module_version": "1.2.0",
          "state": {
            "_model_module": "@jupyter-widgets/base",
            "_model_module_version": "1.2.0",
            "_model_name": "LayoutModel",
            "_view_count": null,
            "_view_module": "@jupyter-widgets/base",
            "_view_module_version": "1.2.0",
            "_view_name": "LayoutView",
            "align_content": null,
            "align_items": null,
            "align_self": null,
            "border": null,
            "bottom": null,
            "display": null,
            "flex": null,
            "flex_flow": null,
            "grid_area": null,
            "grid_auto_columns": null,
            "grid_auto_flow": null,
            "grid_auto_rows": null,
            "grid_column": null,
            "grid_gap": null,
            "grid_row": null,
            "grid_template_areas": null,
            "grid_template_columns": null,
            "grid_template_rows": null,
            "height": null,
            "justify_content": null,
            "justify_items": null,
            "left": null,
            "margin": null,
            "max_height": null,
            "max_width": null,
            "min_height": null,
            "min_width": null,
            "object_fit": null,
            "object_position": null,
            "order": null,
            "overflow": null,
            "overflow_x": null,
            "overflow_y": null,
            "padding": null,
            "right": null,
            "top": null,
            "visibility": null,
            "width": null
          }
        },
        "f0e7d59899ab4e70b9df4bb6e997b364": {
          "model_module": "@jupyter-widgets/controls",
          "model_name": "SliderStyleModel",
          "model_module_version": "1.5.0",
          "state": {
            "_model_module": "@jupyter-widgets/controls",
            "_model_module_version": "1.5.0",
            "_model_name": "SliderStyleModel",
            "_view_count": null,
            "_view_module": "@jupyter-widgets/base",
            "_view_module_version": "1.2.0",
            "_view_name": "StyleView",
            "description_width": "",
            "handle_color": null
          }
        },
        "8382bd7f584240ec9d8cf9f3b6e42b71": {
          "model_module": "@jupyter-widgets/base",
          "model_name": "LayoutModel",
          "model_module_version": "1.2.0",
          "state": {
            "_model_module": "@jupyter-widgets/base",
            "_model_module_version": "1.2.0",
            "_model_name": "LayoutModel",
            "_view_count": null,
            "_view_module": "@jupyter-widgets/base",
            "_view_module_version": "1.2.0",
            "_view_name": "LayoutView",
            "align_content": null,
            "align_items": null,
            "align_self": null,
            "border": null,
            "bottom": null,
            "display": null,
            "flex": null,
            "flex_flow": null,
            "grid_area": null,
            "grid_auto_columns": null,
            "grid_auto_flow": null,
            "grid_auto_rows": null,
            "grid_column": null,
            "grid_gap": null,
            "grid_row": null,
            "grid_template_areas": null,
            "grid_template_columns": null,
            "grid_template_rows": null,
            "height": null,
            "justify_content": null,
            "justify_items": null,
            "left": null,
            "margin": null,
            "max_height": null,
            "max_width": null,
            "min_height": null,
            "min_width": null,
            "object_fit": null,
            "object_position": null,
            "order": null,
            "overflow": null,
            "overflow_x": null,
            "overflow_y": null,
            "padding": null,
            "right": null,
            "top": null,
            "visibility": null,
            "width": null
          }
        }
      }
    }
  },
  "nbformat": 4,
  "nbformat_minor": 0
}